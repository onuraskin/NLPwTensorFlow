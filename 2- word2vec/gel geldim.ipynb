{
 "cells": [
  {
   "cell_type": "code",
   "execution_count": null,
   "id": "f787828d",
   "metadata": {},
   "outputs": [],
   "source": [
    "import numpy as np\n",
    "from gensim.models import Word2Vec\n",
    "from sklearn.manifold import TSNE\n",
    "import matplotlib.pyplot as plt"
   ]
  },
  {
   "cell_type": "code",
   "execution_count": null,
   "id": "1b192d83",
   "metadata": {},
   "outputs": [],
   "source": [
    "f=open('first.txt','r',encoding='utf8')\n",
    "text=f.read()\n",
    "t_list=text.split('\\n')\n",
    "\n",
    "corpus=[]\n",
    "for cumle in t_list:\n",
    "    corpus.append(cumle.split())"
   ]
  },
  {
   "cell_type": "code",
   "execution_count": null,
   "id": "935fbe92",
   "metadata": {},
   "outputs": [],
   "source": [
    "print(corpus[0:8])"
   ]
  },
  {
   "cell_type": "code",
   "execution_count": null,
   "id": "b27e66d4",
   "metadata": {},
   "outputs": [],
   "source": [
    "model=Word2Vec(corpus,size=1,window=5,min_count=0,sg=1)"
   ]
  },
  {
   "cell_type": "code",
   "execution_count": null,
   "id": "25a8de6f",
   "metadata": {},
   "outputs": [],
   "source": [
    "model.wv['gelmek']"
   ]
  },
  {
   "cell_type": "code",
   "execution_count": null,
   "id": "1c5d8d06",
   "metadata": {},
   "outputs": [],
   "source": [
    "model.wv['varmak']"
   ]
  },
  {
   "cell_type": "code",
   "execution_count": null,
   "id": "61e27f4f",
   "metadata": {},
   "outputs": [],
   "source": [
    "model.wv['ulaşmak']"
   ]
  },
  {
   "cell_type": "code",
   "execution_count": 69,
   "id": "a9fa4e11",
   "metadata": {},
   "outputs": [],
   "source": [
    "f=open('secccorpus.txt','r',encoding='utf8')\n",
    "text=f.read()\n",
    "t_list=text.split('\\n')\n",
    "\n",
    "corpus2=[]\n",
    "for cumle in t_list:\n",
    "    corpus2.append(cumle.split())"
   ]
  },
  {
   "cell_type": "code",
   "execution_count": 75,
   "id": "77a6f4cb",
   "metadata": {},
   "outputs": [
    {
     "data": {
      "text/plain": [
       "[['gel', 'geldim', 'geldiler']]"
      ]
     },
     "execution_count": 75,
     "metadata": {},
     "output_type": "execute_result"
    }
   ],
   "source": [
    "corpus2"
   ]
  },
  {
   "cell_type": "code",
   "execution_count": 92,
   "id": "f8d5608e",
   "metadata": {},
   "outputs": [],
   "source": [
    "model2=Word2Vec(corpus2,size=100,window=5,min_count=0,sg=1)"
   ]
  },
  {
   "cell_type": "code",
   "execution_count": 93,
   "id": "c92fa44a",
   "metadata": {},
   "outputs": [
    {
     "data": {
      "text/plain": [
       "array([[-1.8786888e-03,  1.2687051e-03,  4.4487338e-03,  3.5833705e-03,\n",
       "        -3.3997966e-03, -4.3965494e-03,  3.6097483e-03,  1.2903941e-03,\n",
       "        -2.5636905e-03,  1.8521812e-03,  3.8837937e-03, -2.3637761e-03,\n",
       "         2.4991920e-03,  1.2036037e-03,  1.2968893e-03, -2.6500050e-04,\n",
       "        -3.2051273e-03,  2.7997727e-03, -4.8363963e-03, -2.3354860e-03,\n",
       "        -2.0765164e-03,  2.1439076e-03,  8.1701734e-04,  2.0749930e-03,\n",
       "         2.9662594e-03,  1.0835902e-03, -7.0277014e-04, -3.7885304e-03,\n",
       "         7.7432208e-04, -3.3275560e-03, -3.0365144e-03, -2.8638644e-03,\n",
       "         3.2205174e-03,  2.5829256e-03, -3.2193451e-03, -2.2065964e-04,\n",
       "        -1.7068110e-03, -9.1536739e-04,  1.0301477e-03, -3.8883747e-03,\n",
       "         3.9674985e-04,  2.4559679e-03,  3.9953920e-03, -2.3030072e-04,\n",
       "         2.6223101e-03, -3.8072616e-03,  3.4321751e-03,  1.2989093e-03,\n",
       "        -1.3428262e-03,  1.5508940e-03, -3.4898501e-03,  4.1170567e-03,\n",
       "         4.3225791e-03, -3.5530126e-03,  4.1467482e-03,  3.3295155e-03,\n",
       "        -2.3150905e-03, -3.4713352e-03,  4.1942401e-03,  2.0643873e-03,\n",
       "         4.3148673e-04,  4.8678536e-03, -2.4041804e-03, -4.1981949e-03,\n",
       "        -2.3407429e-03,  3.1201276e-03, -8.2427799e-04,  1.0768125e-03,\n",
       "        -2.0299966e-03,  3.1837006e-03,  1.3714368e-03,  2.7379133e-03,\n",
       "         4.5890544e-04,  4.1907770e-03,  1.2382865e-03,  4.1316724e-03,\n",
       "         1.2571344e-03,  3.3934906e-03,  1.7836073e-03, -4.1828076e-03,\n",
       "         2.6294854e-03,  2.9503522e-03,  2.0386924e-03, -1.2037696e-03,\n",
       "        -1.9542670e-03,  3.0015772e-03, -3.9244052e-03, -7.2471664e-04,\n",
       "        -3.5575561e-03, -9.9833624e-04, -2.4657583e-04, -4.6991101e-03,\n",
       "        -3.4619956e-03, -3.5424787e-03,  4.3675313e-03,  3.8613046e-03,\n",
       "         1.6586091e-03, -1.5880587e-03, -1.2089551e-03,  1.0985244e-03],\n",
       "       [-1.8786888e-03,  1.2687051e-03,  4.4487338e-03,  3.5833705e-03,\n",
       "        -3.3997966e-03, -4.3965494e-03,  3.6097483e-03,  1.2903941e-03,\n",
       "        -2.5636905e-03,  1.8521812e-03,  3.8837937e-03, -2.3637761e-03,\n",
       "         2.4991920e-03,  1.2036037e-03,  1.2968893e-03, -2.6500050e-04,\n",
       "        -3.2051273e-03,  2.7997727e-03, -4.8363963e-03, -2.3354860e-03,\n",
       "        -2.0765164e-03,  2.1439076e-03,  8.1701734e-04,  2.0749930e-03,\n",
       "         2.9662594e-03,  1.0835902e-03, -7.0277014e-04, -3.7885304e-03,\n",
       "         7.7432208e-04, -3.3275560e-03, -3.0365144e-03, -2.8638644e-03,\n",
       "         3.2205174e-03,  2.5829256e-03, -3.2193451e-03, -2.2065964e-04,\n",
       "        -1.7068110e-03, -9.1536739e-04,  1.0301477e-03, -3.8883747e-03,\n",
       "         3.9674985e-04,  2.4559679e-03,  3.9953920e-03, -2.3030072e-04,\n",
       "         2.6223101e-03, -3.8072616e-03,  3.4321751e-03,  1.2989093e-03,\n",
       "        -1.3428262e-03,  1.5508940e-03, -3.4898501e-03,  4.1170567e-03,\n",
       "         4.3225791e-03, -3.5530126e-03,  4.1467482e-03,  3.3295155e-03,\n",
       "        -2.3150905e-03, -3.4713352e-03,  4.1942401e-03,  2.0643873e-03,\n",
       "         4.3148673e-04,  4.8678536e-03, -2.4041804e-03, -4.1981949e-03,\n",
       "        -2.3407429e-03,  3.1201276e-03, -8.2427799e-04,  1.0768125e-03,\n",
       "        -2.0299966e-03,  3.1837006e-03,  1.3714368e-03,  2.7379133e-03,\n",
       "         4.5890544e-04,  4.1907770e-03,  1.2382865e-03,  4.1316724e-03,\n",
       "         1.2571344e-03,  3.3934906e-03,  1.7836073e-03, -4.1828076e-03,\n",
       "         2.6294854e-03,  2.9503522e-03,  2.0386924e-03, -1.2037696e-03,\n",
       "        -1.9542670e-03,  3.0015772e-03, -3.9244052e-03, -7.2471664e-04,\n",
       "        -3.5575561e-03, -9.9833624e-04, -2.4657583e-04, -4.6991101e-03,\n",
       "        -3.4619956e-03, -3.5424787e-03,  4.3675313e-03,  3.8613046e-03,\n",
       "         1.6586091e-03, -1.5880587e-03, -1.2089551e-03,  1.0985244e-03],\n",
       "       [ 1.1567428e-03,  5.9504522e-04,  7.5354258e-04,  4.6783430e-03,\n",
       "        -2.8021800e-04, -3.0873225e-03,  4.6770838e-03,  2.3071161e-03,\n",
       "        -2.3996334e-03,  4.3581435e-03,  3.0231415e-03,  2.5889403e-03,\n",
       "         3.9095501e-03,  4.5172162e-03,  1.4963321e-03, -1.3544405e-03,\n",
       "         4.9116262e-03, -9.7180693e-04,  3.5945028e-03,  3.4290939e-03,\n",
       "        -3.1434570e-03,  1.8390467e-03,  4.5440691e-03, -2.2612545e-03,\n",
       "        -3.8708490e-03, -3.0134756e-03, -1.0615935e-03,  2.0669317e-03,\n",
       "         9.4388239e-04,  4.1267392e-03, -7.1415555e-04, -2.2583716e-03,\n",
       "         3.5700304e-03,  1.5243404e-03, -6.2346378e-05,  1.9578196e-03,\n",
       "        -2.1953527e-03, -4.5904880e-03, -1.4866679e-03, -1.1766130e-03,\n",
       "         3.3927031e-03,  3.9547971e-03, -3.4333586e-03,  9.1711502e-04,\n",
       "        -1.6024869e-03, -3.8743040e-03,  4.6559032e-03,  4.7372127e-04,\n",
       "        -3.2678698e-03,  6.3446560e-04,  4.2592720e-03, -5.4626487e-04,\n",
       "         2.0640560e-03,  1.2193799e-03,  1.8828375e-03, -4.8162118e-03,\n",
       "        -3.5635764e-03, -4.9814661e-03,  1.8785499e-03,  4.9247304e-03,\n",
       "         1.7230685e-03, -5.4814306e-04, -2.4490401e-03, -2.8686288e-03,\n",
       "         5.7634490e-04,  3.3164180e-03, -1.7547663e-03,  4.3684505e-03,\n",
       "         1.9022706e-03,  2.0163979e-03,  2.6379214e-03, -1.7299909e-04,\n",
       "         2.3270936e-03, -2.5326221e-03,  2.6079847e-03,  3.8065512e-03,\n",
       "         8.5969944e-04,  1.7067053e-03, -3.7010079e-03, -3.8585046e-03,\n",
       "        -4.7573601e-03, -3.4179469e-04, -2.7141820e-03, -1.1167354e-03,\n",
       "         4.2176079e-03, -1.2999825e-03,  3.0146900e-03, -3.3634066e-04,\n",
       "        -8.1209216e-04, -3.3850668e-03, -3.0901567e-03, -3.8315880e-03,\n",
       "        -3.0126395e-03, -4.9424232e-03, -1.9965485e-04,  8.8153349e-04,\n",
       "         2.9307434e-03,  4.5533036e-03,  1.8711108e-03, -3.5929552e-03]],\n",
       "      dtype=float32)"
      ]
     },
     "execution_count": 93,
     "metadata": {},
     "output_type": "execute_result"
    }
   ],
   "source": [
    "model2.wv['geldim','geldim','geldiler']"
   ]
  },
  {
   "cell_type": "code",
   "execution_count": 94,
   "id": "9c8fbdd2",
   "metadata": {},
   "outputs": [
    {
     "data": {
      "text/plain": [
       "[('geldim', 0.002705298364162445), ('geldiler', -0.057956792414188385)]"
      ]
     },
     "execution_count": 94,
     "metadata": {},
     "output_type": "execute_result"
    }
   ],
   "source": [
    "model2.wv.most_similar('gel')"
   ]
  },
  {
   "cell_type": "code",
   "execution_count": 95,
   "id": "82a250c2",
   "metadata": {},
   "outputs": [],
   "source": [
    "f=open('ulas.txt','r',encoding='utf8')\n",
    "text=f.read()\n",
    "t_list=text.split('\\n')\n",
    "\n",
    "corpus3=[]\n",
    "for cumle in t_list:\n",
    "    corpus3.append(cumle.split())"
   ]
  },
  {
   "cell_type": "code",
   "execution_count": 96,
   "id": "8f851d7d",
   "metadata": {},
   "outputs": [
    {
     "data": {
      "text/plain": [
       "[['ulaş', 'ulaştım', 'ulaştılar']]"
      ]
     },
     "execution_count": 96,
     "metadata": {},
     "output_type": "execute_result"
    }
   ],
   "source": [
    "corpus3"
   ]
  },
  {
   "cell_type": "code",
   "execution_count": 97,
   "id": "a1643d65",
   "metadata": {},
   "outputs": [],
   "source": [
    "model3=Word2Vec(corpus3,size=100,window=5,min_count=0,sg=1)"
   ]
  },
  {
   "cell_type": "code",
   "execution_count": 98,
   "id": "a6b1d058",
   "metadata": {},
   "outputs": [
    {
     "data": {
      "text/plain": [
       "array([[-2.50956300e-03, -2.37610098e-03,  3.44240712e-03,\n",
       "         4.67622653e-03,  2.48939754e-03,  3.90499481e-03,\n",
       "        -9.95534938e-04, -2.66825827e-03,  4.65071388e-03,\n",
       "        -1.01058045e-03, -3.84004624e-03,  2.44732085e-03,\n",
       "         1.65752065e-03,  1.27774547e-03, -1.98693783e-03,\n",
       "        -4.35114745e-03, -8.40915716e-04,  3.12847574e-03,\n",
       "         3.63185722e-03,  1.88166404e-03, -1.90217246e-03,\n",
       "         1.68012199e-03, -4.94944025e-03,  4.06501256e-03,\n",
       "         1.25619618e-03,  3.82241723e-03,  4.21673618e-03,\n",
       "         4.38570976e-03, -3.08183674e-03,  1.57859595e-03,\n",
       "         4.22818400e-03,  3.48375342e-03,  4.84072138e-03,\n",
       "         6.29748276e-04, -1.61239284e-03, -3.89819033e-03,\n",
       "         1.22263213e-03,  5.75109327e-04,  1.80609361e-03,\n",
       "         5.61735760e-05, -2.23374390e-03,  4.71808296e-03,\n",
       "         1.76758924e-03, -1.49708451e-03, -2.31203437e-03,\n",
       "         3.58198909e-03,  4.50092135e-03,  1.02032081e-03,\n",
       "        -1.46395434e-03,  3.12860287e-03, -4.95683542e-03,\n",
       "         2.10988731e-03, -2.01357948e-03, -3.22961737e-03,\n",
       "         3.78913223e-03, -2.05874117e-03,  4.64665517e-03,\n",
       "         1.61778927e-03, -1.93436421e-03, -6.48414658e-04,\n",
       "        -4.98821959e-03,  4.78022220e-03,  3.71057005e-03,\n",
       "        -4.45717201e-03, -2.37860088e-03, -5.34760242e-04,\n",
       "         1.07371120e-03, -1.72479684e-03, -5.17651264e-04,\n",
       "        -3.83890979e-03,  4.53066919e-03,  1.70689798e-03,\n",
       "        -1.06393441e-03,  3.23075778e-03, -4.11874708e-03,\n",
       "        -9.64636332e-04,  1.60064525e-03, -4.81480616e-04,\n",
       "        -3.73509154e-03,  7.11987843e-04,  2.25148816e-03,\n",
       "         3.23703559e-03, -2.88543920e-03,  2.63149361e-03,\n",
       "         4.36967891e-03, -1.94940798e-03, -1.05361606e-03,\n",
       "         3.55905201e-03,  2.38669012e-03, -2.20385613e-03,\n",
       "        -3.43774934e-03,  1.46912015e-03,  3.24307382e-03,\n",
       "        -7.53282569e-04, -2.84113921e-03,  4.99787973e-03,\n",
       "         3.21596581e-03, -4.82625648e-04,  3.60509916e-03,\n",
       "        -2.24532909e-03],\n",
       "       [ 3.60127329e-03, -4.81048087e-03,  4.91764816e-03,\n",
       "         4.65637166e-03, -3.52893164e-03,  3.82258254e-03,\n",
       "         4.64406656e-03,  4.78833960e-03, -4.98067867e-03,\n",
       "         3.27310851e-03,  2.45685969e-03, -4.36985400e-03,\n",
       "         3.21847107e-03,  4.75897221e-03,  2.26252852e-03,\n",
       "        -4.99661686e-03,  6.46530068e-04,  2.37988681e-03,\n",
       "         3.56330094e-03,  2.78000999e-03,  4.96282009e-03,\n",
       "        -8.15091480e-05, -3.04280873e-03,  4.50838095e-04,\n",
       "         3.50144878e-03,  4.85588843e-03, -1.71546487e-03,\n",
       "         3.17334634e-04, -5.84250607e-04,  3.44872038e-04,\n",
       "         9.27798101e-04, -3.62337241e-03,  2.04010168e-03,\n",
       "         3.35030374e-03,  1.93702569e-03,  2.56133586e-04,\n",
       "         3.65210534e-03, -4.62859962e-03, -4.29414446e-03,\n",
       "         1.12485280e-03, -4.92198952e-03,  4.60927840e-03,\n",
       "        -1.82044716e-03,  1.45824847e-03,  6.68532564e-04,\n",
       "         4.74858144e-03,  2.49624252e-03, -4.57217637e-03,\n",
       "        -1.39457511e-03,  4.74033551e-03,  1.30610261e-03,\n",
       "        -3.72422999e-03,  3.10527114e-03, -1.33204227e-03,\n",
       "         4.35016816e-03, -1.71061396e-03, -3.26021924e-03,\n",
       "         2.75608012e-03, -1.97843736e-04,  4.26301965e-03,\n",
       "        -1.63267646e-03, -4.77680890e-03,  3.38723697e-03,\n",
       "        -2.01376318e-03, -1.97432912e-03,  2.87393318e-03,\n",
       "        -4.67137946e-03,  3.56502784e-03,  4.08167299e-03,\n",
       "         4.10946039e-03, -3.03202821e-03,  1.26075849e-03,\n",
       "        -2.47297389e-03,  5.26185962e-04, -1.06911163e-03,\n",
       "        -1.27621205e-03, -8.81121552e-04,  2.07330263e-03,\n",
       "        -1.15937227e-03,  4.52574668e-03,  3.66260763e-03,\n",
       "        -3.15204216e-03, -1.63060636e-03, -4.25065355e-03,\n",
       "        -8.62536952e-04, -3.34809953e-03,  8.86874273e-04,\n",
       "         2.06869352e-03, -1.54355157e-03,  2.93763517e-03,\n",
       "         1.27221050e-03, -1.83371874e-03, -3.08134011e-03,\n",
       "        -1.79718831e-03, -5.19910711e-04,  2.14801542e-03,\n",
       "        -2.11012142e-04,  1.68873207e-03,  2.76062940e-03,\n",
       "        -1.48654392e-03],\n",
       "       [ 1.52771990e-03,  3.31805507e-03, -2.78974092e-03,\n",
       "        -6.62062375e-05, -1.02885009e-03,  2.58977897e-03,\n",
       "         1.06410740e-03, -4.28330852e-03,  3.12445778e-03,\n",
       "        -4.02341271e-03,  7.42596458e-04, -4.33176057e-03,\n",
       "         3.27443914e-03, -4.48687002e-03, -2.43452517e-03,\n",
       "         7.74146290e-04, -2.36214348e-03, -4.38795192e-03,\n",
       "        -3.48981726e-03, -1.47926854e-03,  2.19614431e-03,\n",
       "         3.56946490e-03, -4.46398184e-03,  2.46410398e-03,\n",
       "         4.16406710e-03, -3.63298017e-03, -3.48940887e-03,\n",
       "        -3.23104905e-03, -1.33071007e-04, -3.03328794e-04,\n",
       "         4.55951411e-03, -1.23845169e-03, -3.11763608e-03,\n",
       "         1.46277121e-03, -1.79337664e-03, -4.65795677e-03,\n",
       "         4.11923742e-03, -2.74600461e-03,  2.72982725e-04,\n",
       "        -3.43631930e-03, -4.02883906e-03,  4.53308458e-03,\n",
       "         1.09417003e-03,  8.21926689e-04, -4.61972179e-03,\n",
       "        -1.51923753e-03,  3.25813377e-03,  4.56368225e-03,\n",
       "         1.15443300e-03, -2.13595733e-04, -6.56778284e-04,\n",
       "         4.15448425e-03,  4.73096268e-03,  4.99246828e-03,\n",
       "         1.05194747e-03,  1.64952257e-03, -4.10940638e-03,\n",
       "         1.14830465e-04,  1.37219147e-03,  3.79949808e-03,\n",
       "        -3.23178782e-03,  2.31770636e-03, -5.36604610e-04,\n",
       "         2.97237013e-04,  2.67428579e-03,  4.02019871e-03,\n",
       "        -2.51481286e-03, -5.98519458e-04, -5.04587893e-04,\n",
       "         2.28825794e-03, -3.17242136e-03, -2.86872196e-03,\n",
       "        -2.05521006e-03,  2.90722441e-04,  2.20272690e-03,\n",
       "         3.39084817e-03, -4.18046140e-04,  4.73782979e-03,\n",
       "         2.62380578e-03, -1.96324964e-03,  4.16379888e-03,\n",
       "         3.68512748e-03,  2.94565165e-04,  3.56750237e-03,\n",
       "        -4.42104385e-04,  2.06528814e-03,  1.31358276e-03,\n",
       "         4.47908184e-03,  1.62302284e-03, -1.26532081e-03,\n",
       "         3.21031245e-03,  3.56428442e-03,  3.78501439e-03,\n",
       "         3.33337439e-03,  3.55266547e-03,  4.63098660e-03,\n",
       "         1.90858496e-03, -3.12114926e-03,  1.13670074e-03,\n",
       "        -3.99154052e-03]], dtype=float32)"
      ]
     },
     "execution_count": 98,
     "metadata": {},
     "output_type": "execute_result"
    }
   ],
   "source": [
    "model3.wv['ulaş','ulaştım','ulaştılar']      "
   ]
  },
  {
   "cell_type": "code",
   "execution_count": 99,
   "id": "f9e4cbf3",
   "metadata": {},
   "outputs": [
    {
     "data": {
      "text/plain": [
       "[('ulaştım', 0.10645408928394318), ('ulaştılar', 0.06735792756080627)]"
      ]
     },
     "execution_count": 99,
     "metadata": {},
     "output_type": "execute_result"
    }
   ],
   "source": [
    "model3.wv.most_similar('ulaş')"
   ]
  },
  {
   "cell_type": "code",
   "execution_count": 100,
   "id": "4b5316a8",
   "metadata": {},
   "outputs": [],
   "source": [
    "def closeswords_tsneplot(model,word):\n",
    "    word_vectors=np.empty((0,100))\n",
    "    word_labels=[word] \n",
    "    close_words=model.wv.most_similar(word)\n",
    "    word_vectors=np.append(word_vectors,np.array([model.wv[word]]),axis=0)\n",
    "    for w,_ in close_words:\n",
    "        word_labels.append(w)\n",
    "        word_vectors=np.append(word_vectors,np.array([model.wv[w]]),axis=0)\n",
    "    tsne=TSNE(random_state=0)\n",
    "    Y=tsne.fit_transform(word_vectors)\n",
    "    \n",
    "    x_coords=Y[:,0]\n",
    "    y_coords=Y[:,1]\n",
    "   \n",
    "    plt.scatter(x_coords,y_coords)\n",
    "    for label, x, y in zip(word_labels,x_coords,y_coords):\n",
    "        plt.annotate(label,xy=(x,y),xytext=(5,-2),textcoords='offset points')\n",
    "    \n",
    "    plt.show()\n",
    "        "
   ]
  },
  {
   "cell_type": "code",
   "execution_count": 101,
   "id": "3c6260bb",
   "metadata": {},
   "outputs": [
    {
     "name": "stderr",
     "output_type": "stream",
     "text": [
      "C:\\Users\\onura\\anaconda3\\envs\\tensorflow\\lib\\site-packages\\sklearn\\manifold\\_t_sne.py:783: FutureWarning: The default initialization in TSNE will change from 'random' to 'pca' in 1.2.\n",
      "  FutureWarning,\n",
      "C:\\Users\\onura\\anaconda3\\envs\\tensorflow\\lib\\site-packages\\sklearn\\manifold\\_t_sne.py:793: FutureWarning: The default learning rate in TSNE will change from 200.0 to 'auto' in 1.2.\n",
      "  FutureWarning,\n"
     ]
    },
    {
     "data": {
      "image/png": "[encoded data removed]",
      "text/plain": [
       "<Figure size 432x288 with 1 Axes>"
      ]
     },
     "metadata": {
      "needs_background": "light"
     },
     "output_type": "display_data"
    }
   ],
   "source": [
    "closeswords_tsneplot(model2,'gel')"
   ]
  },
  {
   "cell_type": "code",
   "execution_count": 102,
   "id": "32b49ac2",
   "metadata": {},
   "outputs": [
    {
     "name": "stderr",
     "output_type": "stream",
     "text": [
      "C:\\Users\\onura\\anaconda3\\envs\\tensorflow\\lib\\site-packages\\sklearn\\manifold\\_t_sne.py:783: FutureWarning: The default initialization in TSNE will change from 'random' to 'pca' in 1.2.\n",
      "  FutureWarning,\n",
      "C:\\Users\\onura\\anaconda3\\envs\\tensorflow\\lib\\site-packages\\sklearn\\manifold\\_t_sne.py:793: FutureWarning: The default learning rate in TSNE will change from 200.0 to 'auto' in 1.2.\n",
      "  FutureWarning,\n"
     ]
    },
    {
     "data": {
      "image/png": "[encoded data removed]",
      "text/plain": [
       "<Figure size 432x288 with 1 Axes>"
      ]
     },
     "metadata": {
      "needs_background": "light"
     },
     "output_type": "display_data"
    }
   ],
   "source": [
    "closeswords_tsneplot(model3,'ulaş')"
   ]
  },
  {
   "cell_type": "code",
   "execution_count": null,
   "id": "7bd75d6c",
   "metadata": {},
   "outputs": [],
   "source": []
  }
 ],
 "metadata": {
  "kernelspec": {
   "display_name": "Python 3 (ipykernel)",
   "language": "python",
   "name": "python3"
  },
  "language_info": {
   "codemirror_mode": {
    "name": "ipython",
    "version": 3
   },
   "file_extension": ".py",
   "mimetype": "text/x-python",
   "name": "python",
   "nbconvert_exporter": "python",
   "pygments_lexer": "ipython3",
   "version": "3.7.11"
  }
 },
 "nbformat": 4,
 "nbformat_minor": 5
}
