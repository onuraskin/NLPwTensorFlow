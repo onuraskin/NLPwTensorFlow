{
 "cells": [
  {
   "cell_type": "code",
   "execution_count": 3,
   "id": "af756ae7",
   "metadata": {},
   "outputs": [],
   "source": [
    "import numpy as np\n",
    "from gensim.models import Word2Vec\n",
    "from sklearn.manifold import TSNE\n",
    "import matplotlib.pyplot as plt"
   ]
  },
  {
   "cell_type": "code",
   "execution_count": 5,
   "id": "cb7f575c",
   "metadata": {},
   "outputs": [],
   "source": [
    "f=open('hurriyet.txt','r',encoding='utf8')\n",
    "text=f.read()\n",
    "t_list=text.split('\\n')\n",
    "\n",
    "corpus=[]\n",
    "for cumle in t_list:\n",
    "    corpus.append(cumle.split())"
   ]
  },
  {
   "cell_type": "code",
   "execution_count": 6,
   "id": "9e13644d",
   "metadata": {},
   "outputs": [
    {
     "name": "stdout",
     "output_type": "stream",
     "text": [
      "[['iran', 'devlet', 'televizyonu', 'ülkedeki', 'eyaletin', 'sinde', 'yapılan', 'reformcuları', 'protesto', 'amaçlı', 'yürüyüşlere', 'milyonlarca', 'kişinin', 'katıldığını', 'bildirdi'], ['gösterilerde', 'fitnecilere', 'ölüm', 'münafıklara', 'ölüm', 'abd', 'ye', 'ölüm', 'ingiltere', 'ye', 'ölüm', 'sloganları', 'atıldı'], ['dini', 'lider', 'ali', 'hamaney', 've', 'cumhurbaşkanı', 'mahmud', 'ahmedinejad', 'ı', 'destekleyen', 'iranlılar', 'son', 'olaylarda', 'yeğeni', 'öldürülen', 'mir', 'hüseyin', 'musevi', 'başta', 'olmak', 'üzere', 'muhalefet', 'liderlerini', 'kınadılar'], ['musevi', 'ye', 'ölüm', 've', 'idam', 'idam', 'sloganları', 'duyuldu'], ['muhalefet', 'liderleri', 'kaçtı', 'mı', 'aşure', 'günü', 'yaşanan', 'çatışmalarda', 'devlet', 'kaynaklarına', 'göre', 'u', 'terörist', 'olmak', 'üzere', 'kişi', 'ölmüştü'], ['den', 'fazla', 'kişinin', 'yaralandığı', 'olaylar', 'sırasında', 'en', 'az', 'kişi', 'tutuklanmıştı'], ['öte', 'yandan', 'iran', 'haber', 'ajansı', 'irna', 'muhalif', 'liderler', 'mir', 'hüseyin', 'musevi', 've', 'mehdi', 'kerrubi', 'nin', 'başkentten', 'kaçarak', 'ülkenin', 'kuzeyine', 'geçtiğini', 'ileri', 'sürdü', 'ancak', 'muhalefet', 'iddiayı', 'yalanladı'], ['hamaney', 'in', 'bir', 'dönem', 'korumalığını', 'yapan', 've', 'şu', 'anda', 'fransa', 'da', 'saklandığı', 'söylenen', 'bir', 'kişinin', 'muhalefete', 'verdiği', 'bilgilere', 'göre', 'münzevi', 'yaşamı', 'na', 'rağmen', 'dini', 'liderin', 'havyara', 'karşı', 'korkunç', 'bir', 'iştahı', 'var'], ['baston', 've', 'at', 'meraklısı', 'hamaney', 'aynı', 'zamanda', 'değerli', 'mücevherlerle', 'bezenmiş', 'bastonların', 've', 'cins', 'atların', 'koleksiyonunu', 'yapıyor'], ['hamaney', 'in', 'antika', 'bastonlarının', 'sayısı']]\n"
     ]
    }
   ],
   "source": [
    "print(corpus[:10])"
   ]
  },
  {
   "cell_type": "code",
   "execution_count": 7,
   "id": "22627c59",
   "metadata": {},
   "outputs": [],
   "source": [
    "model=Word2Vec(corpus,size=100,window=5,min_count=5,sg=1)"
   ]
  },
  {
   "cell_type": "code",
   "execution_count": 8,
   "id": "d1d2a30a",
   "metadata": {},
   "outputs": [
    {
     "data": {
      "text/plain": [
       "array([-0.67800885, -0.12658665,  0.14535974,  0.01220748,  0.09506673,\n",
       "       -0.16113728, -0.6349798 , -0.36055058, -0.08078657,  0.1656183 ,\n",
       "       -0.19285135,  0.07358872, -0.15029703, -0.38167688, -0.17135367,\n",
       "       -0.06337012,  0.29332405, -0.16760196,  0.23755561, -0.6918061 ,\n",
       "       -0.4329341 ,  0.22158867, -0.27611524, -0.11763256,  0.31745028,\n",
       "        0.5892657 ,  0.6850007 , -0.22127011, -0.6370152 ,  0.1534757 ,\n",
       "       -0.3878891 ,  0.06569599, -0.39575255,  0.00501264,  0.415241  ,\n",
       "       -0.33043906,  0.51188   ,  0.8327222 ,  0.3574227 , -0.43168506,\n",
       "        0.69189674, -0.13689812, -0.4303612 ,  0.66397184, -0.35077626,\n",
       "       -0.46253443, -0.13809423,  0.09117603, -0.5303647 ,  0.340303  ,\n",
       "       -0.44876364, -0.23278894, -0.24799626, -0.5541449 ,  0.18314384,\n",
       "       -0.08345373,  0.09284997, -0.31596205, -0.04646291, -0.20718545,\n",
       "       -0.0492822 , -0.30582526, -0.27417266, -0.07491313, -0.16266227,\n",
       "        0.06221991,  0.12328633, -0.43225774, -0.20366505,  0.35844502,\n",
       "        0.36778796, -0.13488328, -0.05987971, -0.16527048, -0.25532615,\n",
       "        0.84039617, -0.02400795, -0.18084086, -0.31555304, -0.0704785 ,\n",
       "        0.47372246,  0.43477854, -0.59672785, -0.13967761,  0.35955238,\n",
       "        0.02121094, -0.31546822, -0.34810665, -0.0651291 ,  0.08568235,\n",
       "       -0.2528409 ,  0.19016927, -0.03531505, -0.09717529,  0.17138204,\n",
       "       -0.60792404, -0.06445596, -0.27752623, -0.29360715,  0.06698416],\n",
       "      dtype=float32)"
      ]
     },
     "execution_count": 8,
     "metadata": {},
     "output_type": "execute_result"
    }
   ],
   "source": [
    "model.wv['ankara']"
   ]
  },
  {
   "cell_type": "code",
   "execution_count": 9,
   "id": "08846cd6",
   "metadata": {},
   "outputs": [
    {
     "data": {
      "text/plain": [
       "[('danimarka', 0.807255744934082),\n",
       " ('belçika', 0.7948070764541626),\n",
       " ('avusturya', 0.7828564643859863),\n",
       " ('almanya', 0.7652080655097961),\n",
       " ('kanada', 0.7570133209228516),\n",
       " ('fransa', 0.7500192523002625),\n",
       " ('italya', 0.7492040395736694),\n",
       " ('finlandiya', 0.7491670846939087),\n",
       " ('avustralya', 0.7427840232849121),\n",
       " ('letonya', 0.7358872890472412)]"
      ]
     },
     "execution_count": 9,
     "metadata": {},
     "output_type": "execute_result"
    }
   ],
   "source": [
    "model.wv.most_similar('hollanda')"
   ]
  },
  {
   "cell_type": "code",
   "execution_count": 10,
   "id": "8b69f067",
   "metadata": {},
   "outputs": [],
   "source": [
    "model.save('word2vecc.model')"
   ]
  },
  {
   "cell_type": "code",
   "execution_count": 12,
   "id": "6f931b66",
   "metadata": {},
   "outputs": [],
   "source": [
    "model=Word2Vec.load('word2vecc.model')"
   ]
  },
  {
   "cell_type": "code",
   "execution_count": 18,
   "id": "1bff41ad",
   "metadata": {},
   "outputs": [],
   "source": [
    "def closeswords_tsneplot(model,word):\n",
    "    word_vectors=np.empty((0,100))\n",
    "    word_labels=[word] \n",
    "    close_words=model.wv.most_similar(word)\n",
    "    word_vectors=np.append(word_vectors,np.array([model.wv[word]]),axis=0)\n",
    "    for w,_ in close_words:\n",
    "        word_labels.append(w)\n",
    "        word_vectors=np.append(word_vectors,np.array([model.wv[w]]),axis=0)\n",
    "    tsne=TSNE(random_state=0)\n",
    "    Y=tsne.fit_transform(word_vectors)\n",
    "    \n",
    "    x_coords=Y[:,0]\n",
    "    y_coords=Y[:,1]\n",
    "   \n",
    "    plt.scatter(x_coords,y_coords)\n",
    "    for label, x, y in zip(word_labels,x_coords,y_coords):\n",
    "        plt.annotate(label,xy=(x,y),xytext=(5,-2),textcoords='offset points')\n",
    "    \n",
    "    plt.show()\n",
    "        \n",
    "    "
   ]
  },
  {
   "cell_type": "code",
   "execution_count": 19,
   "id": "3cc9e923",
   "metadata": {},
   "outputs": [
    {
     "name": "stderr",
     "output_type": "stream",
     "text": [
      "C:\\Users\\onura\\anaconda3\\envs\\tensorflow\\lib\\site-packages\\sklearn\\manifold\\_t_sne.py:783: FutureWarning: The default initialization in TSNE will change from 'random' to 'pca' in 1.2.\n",
      "  FutureWarning,\n",
      "C:\\Users\\onura\\anaconda3\\envs\\tensorflow\\lib\\site-packages\\sklearn\\manifold\\_t_sne.py:793: FutureWarning: The default learning rate in TSNE will change from 200.0 to 'auto' in 1.2.\n",
      "  FutureWarning,\n"
     ]
    },
    {
     "data": {
      "image/png": "[encoded data removed]",
      "text/plain": [
       "<Figure size 432x288 with 1 Axes>"
      ]
     },
     "metadata": {
      "needs_background": "light"
     },
     "output_type": "display_data"
    }
   ],
   "source": [
    "closeswords_tsneplot(model,'berlin')"
   ]
  },
  {
   "cell_type": "code",
   "execution_count": null,
   "id": "44653919",
   "metadata": {},
   "outputs": [],
   "source": []
  }
 ],
 "metadata": {
  "kernelspec": {
   "display_name": "Python 3 (ipykernel)",
   "language": "python",
   "name": "python3"
  },
  "language_info": {
   "codemirror_mode": {
    "name": "ipython",
    "version": 3
   },
   "file_extension": ".py",
   "mimetype": "text/x-python",
   "name": "python",
   "nbconvert_exporter": "python",
   "pygments_lexer": "ipython3",
   "version": "3.7.11"
  }
 },
 "nbformat": 4,
 "nbformat_minor": 5
}
