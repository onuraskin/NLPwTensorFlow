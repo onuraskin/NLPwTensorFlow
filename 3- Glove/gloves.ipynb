{
 "cells": [
  {
   "cell_type": "code",
   "execution_count": 1,
   "id": "f511e5c7",
   "metadata": {},
   "outputs": [],
   "source": [
    "from gensim.scripts.glove2word2vec import glove2word2vec\n",
    "from gensim.models import KeyedVectors"
   ]
  },
  {
   "cell_type": "code",
   "execution_count": 4,
   "id": "7a38f999",
   "metadata": {},
   "outputs": [
    {
     "data": {
      "text/plain": [
       "(400000, 100)"
      ]
     },
     "execution_count": 4,
     "metadata": {},
     "output_type": "execute_result"
    }
   ],
   "source": [
    "glove_input='glove.6B.100d.txt'\n",
    "word2vec_output='gloves.6B.100d.word2vec'\n",
    "glove2word2vec(glove_input,word2vec_output)"
   ]
  },
  {
   "cell_type": "code",
   "execution_count": 5,
   "id": "f4fc0b4a",
   "metadata": {},
   "outputs": [],
   "source": [
    "model=KeyedVectors.load_word2vec_format(word2vec_output,binary=False)"
   ]
  },
  {
   "cell_type": "code",
   "execution_count": 6,
   "id": "b43b9126",
   "metadata": {},
   "outputs": [
    {
     "data": {
      "text/plain": [
       "array([ 0.40378  ,  0.019734 , -0.15499  , -0.26948  ,  0.33938  ,\n",
       "        0.46476  , -0.53141  ,  0.094519 ,  0.45399  ,  1.3385   ,\n",
       "        0.18271  , -0.3465   ,  0.28323  ,  0.70829  , -0.75002  ,\n",
       "        0.016359 , -0.64514  , -0.54882  , -0.75309  , -0.21617  ,\n",
       "        0.13678  , -0.25198  , -0.037552 ,  0.35938  , -0.33532  ,\n",
       "       -0.78733  ,  0.10907  , -0.13902  ,  0.53454  ,  0.58805  ,\n",
       "       -1.1348   , -0.14574  ,  0.20244  ,  0.81909  , -0.27482  ,\n",
       "        0.14045  ,  0.68814  ,  0.70236  , -0.34211  , -0.62128  ,\n",
       "       -0.10601  , -0.62413  ,  0.30536  , -0.44325  ,  0.64016  ,\n",
       "        0.0020673,  0.88252  ,  0.050356 , -0.35739  ,  0.54686  ,\n",
       "        0.11974  , -0.12593  ,  0.74211  ,  0.65482  , -1.4018   ,\n",
       "       -1.1218   , -0.21188  ,  0.35338  ,  0.53459  ,  0.20205  ,\n",
       "       -0.86132  ,  0.82773  , -0.10065  , -0.19766  , -0.85631  ,\n",
       "        0.27891  , -1.3381   ,  0.19368  , -0.70602  ,  0.067972 ,\n",
       "       -0.80953  , -0.65974  ,  0.50856  , -0.020009 , -0.7665   ,\n",
       "       -0.21865  ,  0.11584  , -0.23323  , -0.73037  ,  0.25433  ,\n",
       "        0.51655  , -0.031959 , -0.34603  ,  0.016619 ,  0.36089  ,\n",
       "       -0.25636  , -0.86198  , -0.16575  , -0.084256 ,  0.21918  ,\n",
       "        0.7003   ,  0.14982  , -0.083508 , -0.16968  , -0.5801   ,\n",
       "        0.96829  ,  0.40106  ,  0.16945  ,  0.74681  ,  0.26952  ],\n",
       "      dtype=float32)"
      ]
     },
     "execution_count": 6,
     "metadata": {},
     "output_type": "execute_result"
    }
   ],
   "source": [
    "model['istanbul']"
   ]
  },
  {
   "cell_type": "code",
   "execution_count": 7,
   "id": "dc9199b4",
   "metadata": {},
   "outputs": [
    {
     "data": {
      "text/plain": [
       "[('father', 0.8199653625488281),\n",
       " ('mother', 0.8136024475097656),\n",
       " ('man', 0.813335657119751),\n",
       " ('son', 0.7847468852996826),\n",
       " ('daughter', 0.7774248719215393),\n",
       " ('wife', 0.7733563780784607),\n",
       " ('brother', 0.7668715715408325),\n",
       " ('queen', 0.762550950050354),\n",
       " ('boy', 0.7492154240608215),\n",
       " ('death', 0.7410825490951538)]"
      ]
     },
     "execution_count": 7,
     "metadata": {},
     "output_type": "execute_result"
    }
   ],
   "source": [
    "model.most_similar(positive=['woman','king'])"
   ]
  },
  {
   "cell_type": "code",
   "execution_count": null,
   "id": "0ca09433",
   "metadata": {},
   "outputs": [],
   "source": []
  }
 ],
 "metadata": {
  "kernelspec": {
   "display_name": "Python 3 (ipykernel)",
   "language": "python",
   "name": "python3"
  },
  "language_info": {
   "codemirror_mode": {
    "name": "ipython",
    "version": 3
   },
   "file_extension": ".py",
   "mimetype": "text/x-python",
   "name": "python",
   "nbconvert_exporter": "python",
   "pygments_lexer": "ipython3",
   "version": "3.7.11"
  }
 },
 "nbformat": 4,
 "nbformat_minor": 5
}
